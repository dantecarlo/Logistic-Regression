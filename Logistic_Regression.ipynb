{
  "nbformat": 4,
  "nbformat_minor": 0,
  "metadata": {
    "colab": {
      "name": "Logistic Regression.ipynb",
      "provenance": [],
      "collapsed_sections": [],
      "mount_file_id": "147jKBIGpo00Pk3sp70-peJ0bjAlW5G24",
      "authorship_tag": "ABX9TyMl/2l4K0T9JAMCziIGbYEM",
      "include_colab_link": true
    },
    "kernelspec": {
      "name": "python3",
      "display_name": "Python 3"
    }
  },
  "cells": [
    {
      "cell_type": "markdown",
      "metadata": {
        "id": "view-in-github",
        "colab_type": "text"
      },
      "source": [
        "<a href=\"https://colab.research.google.com/github/dantecarlo/Logistic-Regression/blob/master/Logistic_Regression.ipynb\" target=\"_parent\"><img src=\"https://colab.research.google.com/assets/colab-badge.svg\" alt=\"Open In Colab\"/></a>"
      ]
    },
    {
      "cell_type": "code",
      "metadata": {
        "id": "Z-JGHNEVshHW",
        "colab_type": "code",
        "colab": {}
      },
      "source": [
        "# Import libs\n",
        "import numpy as np\n",
        "import pandas as pd\n",
        "\n",
        "import sklearn\n",
        "\n",
        "import matplotlib.pyplot as plt"
      ],
      "execution_count": 0,
      "outputs": []
    },
    {
      "cell_type": "code",
      "metadata": {
        "id": "tMpOd7Wc2K5i",
        "colab_type": "code",
        "colab": {}
      },
      "source": [
        "# Function Sigmoid\n",
        "def sigmoid(z, deriv = False):\n",
        "    sig = 1 / (1 + np.exp(-z))\n",
        "    if deriv:\n",
        "        sig_deriv = sig*(1-sig) \n",
        "        return sig_deriv\n",
        "    else:\n",
        "        return sig"
      ],
      "execution_count": 0,
      "outputs": []
    },
    {
      "cell_type": "code",
      "metadata": {
        "id": "D3CHuOWcOKIe",
        "colab_type": "code",
        "colab": {
          "base_uri": "https://localhost:8080/",
          "height": 573
        },
        "outputId": "b4117c89-4c71-40d9-bdc4-67de64e09425"
      },
      "source": [
        "# Generate data points\n",
        "x = np.arange(-5,5,0.1)\n",
        "y = sigmoid(x)\n",
        "y_deriv = sigmoid(x, deriv = True)\n",
        "\n",
        "# Plot the sigmoid\n",
        "#plt.subplot(2,1,1)\n",
        "plt.scatter(x, y)\n",
        "plt.title('Sigmoid')\n",
        "plt.xlabel('x')\n",
        "plt.ylabel('y')\n",
        "plt.show()\n",
        "\n",
        "# Plot the derivative of the sigmoid\n",
        "#plt.subplot(2,1,2)\n",
        "plt.scatter(x, y_deriv)\n",
        "plt.title('Derivative of the sigmoid')\n",
        "plt.xlabel('x')\n",
        "plt.ylabel('y')\n",
        "\n",
        "plt.show()"
      ],
      "execution_count": 3,
      "outputs": [
        {
          "output_type": "display_data",
          "data": {
            "image/png": "[encoded data removed]",
            "text/plain": [
              "<Figure size 432x288 with 1 Axes>"
            ]
          },
          "metadata": {
            "tags": [],
            "needs_background": "light"
          }
        },
        {
          "output_type": "display_data",
          "data": {
            "image/png": "[encoded data removed]",
            "text/plain": [
              "<Figure size 432x288 with 1 Axes>"
            ]
          },
          "metadata": {
            "tags": [],
            "needs_background": "light"
          }
        }
      ]
    },
    {
      "cell_type": "code",
      "metadata": {
        "id": "pvfrE7ZCOrLm",
        "colab_type": "code",
        "colab": {}
      },
      "source": [
        "class LogisticRegression:\n",
        "    def __init__(self, lr=0.01, num_iter=100000, fit_intercept=True, verbose=False):\n",
        "        self.lr = lr\n",
        "        self.num_iter = num_iter\n",
        "        self.fit_intercept = fit_intercept\n",
        "        self.verbose = verbose\n",
        "        self.cost_history = []\n",
        "\n",
        "    def __add_intercept(self, X):\n",
        "        intercept = np.ones((X.shape[0], 1))\n",
        "        return np.concatenate((intercept, X), axis=1)\n",
        "    \n",
        "    # Sigmoid Function\n",
        "    def __sigmoid(self, z):\n",
        "        return 1 / (1 + np.exp(-z))\n",
        "\n",
        "    # Loss function || Entropy || Cost Function\n",
        "    def __loss(self, h, y):\n",
        "        return (-y * np.log(h) - (1 - y) * np.log(1 - h)).mean()\n",
        "    \n",
        "    # Train the model\n",
        "    def fit(self, X, y):\n",
        "        if self.fit_intercept:\n",
        "            X = self.__add_intercept(X)\n",
        "        \n",
        "        # weights initialization\n",
        "        self.theta = np.random.rand(X.shape[1], 1)\n",
        "\n",
        "        for i in range(self.num_iter):\n",
        "            z = np.dot(X, self.theta)\n",
        "            h = self.__sigmoid(z)\n",
        "\n",
        "            # Gradient\n",
        "            gradient = np.dot(X.T, (h - y)) / y.size\n",
        "\n",
        "            # Gradient Descent \n",
        "            self.theta -= self.lr * gradient\n",
        "            self.cost_history.append(self.__loss(h, y))\n",
        "\n",
        "            if(self.verbose == True and i % 100 == 0):\n",
        "                z = np.dot(X, self.theta)\n",
        "                h = self.__sigmoid(z)\n",
        "                print(f'loss: {self.__loss(h, y)} \\t')\n",
        "    \n",
        "    # Print cost vs interations\n",
        "    def plot_history(self):\n",
        "      x = range(0, self.num_iter)\n",
        "      plt.plot(x, self.cost_history)\n",
        "      plt.xlabel(\"Iterations(per tens)\")\n",
        "      plt.ylabel(\"Training cost\")\n",
        "      plt.title(\"Cost for lr: \" + str(learning_rate))\n",
        "      plt.grid()\n",
        "      plt.show()\n",
        "\n",
        "    def predict_prob(self, X):\n",
        "        if self.fit_intercept:\n",
        "            X = self.__add_intercept(X)\n",
        "    \n",
        "        return self.__sigmoid(np.dot(X, self.theta))\n",
        "    \n",
        "    def predict(self, X, threshold=0.5):\n",
        "        return self.predict_prob(X) >= threshold"
      ],
      "execution_count": 0,
      "outputs": []
    },
    {
      "cell_type": "code",
      "metadata": {
        "id": "Av_scU54YnXr",
        "colab_type": "code",
        "colab": {}
      },
      "source": [
        "# Read Data\n",
        "ec = pd.read_csv(\"/content/drive/My Drive/Cursos/TIA/Rlog/Enfermedad_Cardiaca.csv\", sep='\\t')\n",
        "diabetes = pd.read_csv(\"/content/drive/My Drive/Cursos/TIA/Rlog/diabetes.csv\", sep='\\t')"
      ],
      "execution_count": 0,
      "outputs": []
    },
    {
      "cell_type": "code",
      "metadata": {
        "id": "z88QU2yBZ7r9",
        "colab_type": "code",
        "colab": {}
      },
      "source": [
        "# Tranform into np.array\n",
        "ec_X = np.array(ec[[\"age\", \"sex\",\t\"cp\",\t\"trestbps\",\t\"chol\",\t\"fbs\",\t\"restecg\",\t\"thalach\",\t\"exang\",\t\"oldpeak\",\t\"slope\",\t\"ca\",\t\"thal\"]])\n",
        "ec_y = np.array(ec[\"target\"]).reshape(-1,1)\n",
        "\n",
        "diabetes_X = np.array(diabetes[[\"Pregnancies\",\t\"Glucose\",\t\"BloodPressure\",\t\"SkinThickness\",\t\"Insulin\",\t\"BMI\",\t\"DiabetesPedigreeFunction\",\t\"Age\"]])\n",
        "diabetes_y = np.array(diabetes[\"Outcome\"]).reshape(-1,1)"
      ],
      "execution_count": 0,
      "outputs": []
    },
    {
      "cell_type": "code",
      "metadata": {
        "id": "UrnIUANcgHBt",
        "colab_type": "code",
        "colab": {}
      },
      "source": [
        "# Regularization Function\n",
        "def regularization(matrx):\n",
        "  matrx = (matrx - np.mean(matrx)) / (np.std(matrx))\n",
        "  # matrx = (matrx - np.mean(matrx)) / (np.max(matrx) - np.min(matrx))\n",
        "  return matrx"
      ],
      "execution_count": 0,
      "outputs": []
    },
    {
      "cell_type": "code",
      "metadata": {
        "id": "ycLJeqjwgNsE",
        "colab_type": "code",
        "colab": {}
      },
      "source": [
        "# Normalization\n",
        "ec_X = regularization(ec_X)\n",
        "\n",
        "diabetes_X = regularization(diabetes_X)\n"
      ],
      "execution_count": 0,
      "outputs": []
    },
    {
      "cell_type": "code",
      "metadata": {
        "id": "3QTtLB-Aczbc",
        "colab_type": "code",
        "colab": {}
      },
      "source": [
        "# Hyperparamters \n",
        "iterations = 1000\n",
        "learning_rate = 0.1"
      ],
      "execution_count": 0,
      "outputs": []
    },
    {
      "cell_type": "code",
      "metadata": {
        "id": "yzsEtDGNUkQT",
        "colab_type": "code",
        "colab": {}
      },
      "source": [
        "# Folds and Accuracy\n",
        "from sklearn.model_selection import StratifiedKFold\n",
        "\n",
        "def folds(X, y, model, print_accuracy=False):\n",
        "  skfolds = StratifiedKFold(n_splits=3, shuffle=True, random_state=42)\n",
        "\n",
        "  mean_accuracy = []\n",
        "\n",
        "\n",
        "  for train_index, test_index in skfolds.split(X, y):\n",
        "      clone_LR = model\n",
        "      X_train_folds = X[train_index]\n",
        "      y_train_folds = (y[train_index])\n",
        "      X_test_fold = X[test_index]\n",
        "      y_test_fold = (y[test_index])\n",
        "\n",
        "      clone_LR.fit(X_train_folds, y_train_folds)\n",
        "      y_pred = clone_LR.predict(X_test_fold)\n",
        "      n_correct = sum(y_pred == y_test_fold)\n",
        "      \n",
        "      mean_accuracy.append(n_correct / len(y_pred))\n",
        "      if print_accuracy:\n",
        "        # Accuracy\n",
        "        print(\"Accuracy: \", n_correct / len(y_pred))\n",
        "        \n",
        "  mean_accuracy = \"{:.2f}\".format(np.mean(mean_accuracy) * 100)\n",
        "  return mean_accuracy"
      ],
      "execution_count": 0,
      "outputs": []
    },
    {
      "cell_type": "code",
      "metadata": {
        "id": "PelIZPB8ic5d",
        "colab_type": "code",
        "colab": {
          "base_uri": "https://localhost:8080/",
          "height": 85
        },
        "outputId": "6c956945-fce6-4846-bad0-16e209fa62f2"
      },
      "source": [
        "# EC\n",
        "ec_LR = LogisticRegression(learning_rate, iterations)\n",
        "folds(ec_X, ec_y, ec_LR, 1)"
      ],
      "execution_count": 12,
      "outputs": [
        {
          "output_type": "stream",
          "text": [
            "Accuracy:  [0.72277228]\n",
            "Accuracy:  [0.69306931]\n",
            "Accuracy:  [0.71287129]\n"
          ],
          "name": "stdout"
        },
        {
          "output_type": "execute_result",
          "data": {
            "text/plain": [
              "'70.96'"
            ]
          },
          "metadata": {
            "tags": []
          },
          "execution_count": 12
        }
      ]
    },
    {
      "cell_type": "code",
      "metadata": {
        "id": "5tRw9wJQbnGh",
        "colab_type": "code",
        "colab": {
          "base_uri": "https://localhost:8080/",
          "height": 85
        },
        "outputId": "f94173b8-e62c-412f-c38e-003c5e393a00"
      },
      "source": [
        "# Diabetes\n",
        "diabetes_LR = LogisticRegression(learning_rate, iterations)\n",
        "folds(diabetes_X, diabetes_y, diabetes_LR, 1)"
      ],
      "execution_count": 13,
      "outputs": [
        {
          "output_type": "stream",
          "text": [
            "Accuracy:  [0.75390625]\n",
            "Accuracy:  [0.76953125]\n",
            "Accuracy:  [0.73828125]\n"
          ],
          "name": "stdout"
        },
        {
          "output_type": "execute_result",
          "data": {
            "text/plain": [
              "'75.39'"
            ]
          },
          "metadata": {
            "tags": []
          },
          "execution_count": 13
        }
      ]
    },
    {
      "cell_type": "code",
      "metadata": {
        "id": "HffjO6rKQXV6",
        "colab_type": "code",
        "colab": {}
      },
      "source": [
        "# Experiment 1\n",
        "learning_rates = [0.01, 0.05, 0.1, 0.2, 0.3, 0.4]\n",
        "iterations = [*range(500, 4000, 500)]"
      ],
      "execution_count": 0,
      "outputs": []
    },
    {
      "cell_type": "code",
      "metadata": {
        "id": "FecbWrIvpjkE",
        "colab_type": "code",
        "colab": {}
      },
      "source": [
        "# EC\n",
        "ec_history = []\n",
        "\n",
        "for learning_rate in learning_rates:\n",
        "  for iteration in iterations:\n",
        "    ec_mean_accuracy = folds(ec_X, ec_y, LogisticRegression(learning_rate, iteration))\n",
        "    ec_history.append([learning_rate, iteration, ec_mean_accuracy])\n"
      ],
      "execution_count": 0,
      "outputs": []
    },
    {
      "cell_type": "code",
      "metadata": {
        "id": "6-9waG364a57",
        "colab_type": "code",
        "colab": {
          "base_uri": "https://localhost:8080/",
          "height": 816
        },
        "outputId": "44a7b219-0ae8-4de6-f1b7-4fa1e39830fc"
      },
      "source": [
        "print(\"EC history\")\n",
        "print(\" --------------------------------------------------\")\n",
        "print(\"| Tasa de Aprendizaje | Iteraciones | Accuracy     |\")\n",
        "print(\" --------------------------------------------------\")\n",
        "for his in ec_history:  \n",
        "  print(\"|        \" + str(his[0]) +                \"         |     \" + str(his[1]) + \"     | \" + str(his[2]) + \"%    |\")\n",
        "print(\" --------------------------------------------------\")\n"
      ],
      "execution_count": 16,
      "outputs": [
        {
          "output_type": "stream",
          "text": [
            "EC history\n",
            " --------------------------------------------------\n",
            "| Tasa de Aprendizaje | Iteraciones | Accuracy     |\n",
            " --------------------------------------------------\n",
            "|        0.01         |     500     | 60.73%    |\n",
            "|        0.01         |     1000     | 64.36%    |\n",
            "|        0.01         |     1500     | 67.99%    |\n",
            "|        0.01         |     2000     | 66.34%    |\n",
            "|        0.01         |     2500     | 68.98%    |\n",
            "|        0.01         |     3000     | 66.67%    |\n",
            "|        0.01         |     3500     | 67.99%    |\n",
            "|        0.05         |     500     | 67.00%    |\n",
            "|        0.05         |     1000     | 68.65%    |\n",
            "|        0.05         |     1500     | 69.64%    |\n",
            "|        0.05         |     2000     | 70.30%    |\n",
            "|        0.05         |     2500     | 69.97%    |\n",
            "|        0.05         |     3000     | 70.63%    |\n",
            "|        0.05         |     3500     | 69.97%    |\n",
            "|        0.1         |     500     | 68.98%    |\n",
            "|        0.1         |     1000     | 70.30%    |\n",
            "|        0.1         |     1500     | 70.96%    |\n",
            "|        0.1         |     2000     | 71.62%    |\n",
            "|        0.1         |     2500     | 70.96%    |\n",
            "|        0.1         |     3000     | 70.30%    |\n",
            "|        0.1         |     3500     | 71.29%    |\n",
            "|        0.2         |     500     | 70.63%    |\n",
            "|        0.2         |     1000     | 70.96%    |\n",
            "|        0.2         |     1500     | 71.29%    |\n",
            "|        0.2         |     2000     | 70.63%    |\n",
            "|        0.2         |     2500     | 70.96%    |\n",
            "|        0.2         |     3000     | 70.63%    |\n",
            "|        0.2         |     3500     | 70.96%    |\n",
            "|        0.3         |     500     | 70.63%    |\n",
            "|        0.3         |     1000     | 70.96%    |\n",
            "|        0.3         |     1500     | 70.30%    |\n",
            "|        0.3         |     2000     | 70.96%    |\n",
            "|        0.3         |     2500     | 70.96%    |\n",
            "|        0.3         |     3000     | 71.29%    |\n",
            "|        0.3         |     3500     | 71.29%    |\n",
            "|        0.4         |     500     | 70.96%    |\n",
            "|        0.4         |     1000     | 70.96%    |\n",
            "|        0.4         |     1500     | 71.29%    |\n",
            "|        0.4         |     2000     | 71.29%    |\n",
            "|        0.4         |     2500     | 70.96%    |\n",
            "|        0.4         |     3000     | 70.96%    |\n",
            "|        0.4         |     3500     | 71.62%    |\n",
            " --------------------------------------------------\n"
          ],
          "name": "stdout"
        }
      ]
    },
    {
      "cell_type": "code",
      "metadata": {
        "id": "BCaXD1js23LZ",
        "colab_type": "code",
        "colab": {}
      },
      "source": [
        "# Diabetes\n",
        "diabetes_history = []\n",
        "\n",
        "for learning_rate in learning_rates:\n",
        "  for iteration in iterations:\n",
        "    diabetes_mean_accuracy = folds(diabetes_X, diabetes_y, LogisticRegression(learning_rate, iteration))\n",
        "    diabetes_history.append([learning_rate, iteration, diabetes_mean_accuracy])\n"
      ],
      "execution_count": 0,
      "outputs": []
    },
    {
      "cell_type": "code",
      "metadata": {
        "id": "SZeJl9Yd4foQ",
        "colab_type": "code",
        "colab": {
          "base_uri": "https://localhost:8080/",
          "height": 816
        },
        "outputId": "62200b8a-cddb-474a-a983-dfd4d9cbc300"
      },
      "source": [
        "print(\"EC history\")\n",
        "print(\" --------------------------------------------------\")\n",
        "print(\"| Tasa de Aprendizaje | Iteraciones | Accuracy     |\")\n",
        "print(\" --------------------------------------------------\")\n",
        "for his in ec_history:  \n",
        "  print(\"|        \" + str(his[0]) +                \"         |     \" + str(his[1]) + \"     | \" + str(his[2]) + \"%    |\")\n",
        "print(\" --------------------------------------------------\")"
      ],
      "execution_count": 18,
      "outputs": [
        {
          "output_type": "stream",
          "text": [
            "EC history\n",
            " --------------------------------------------------\n",
            "| Tasa de Aprendizaje | Iteraciones | Accuracy     |\n",
            " --------------------------------------------------\n",
            "|        0.01         |     500     | 60.73%    |\n",
            "|        0.01         |     1000     | 64.36%    |\n",
            "|        0.01         |     1500     | 67.99%    |\n",
            "|        0.01         |     2000     | 66.34%    |\n",
            "|        0.01         |     2500     | 68.98%    |\n",
            "|        0.01         |     3000     | 66.67%    |\n",
            "|        0.01         |     3500     | 67.99%    |\n",
            "|        0.05         |     500     | 67.00%    |\n",
            "|        0.05         |     1000     | 68.65%    |\n",
            "|        0.05         |     1500     | 69.64%    |\n",
            "|        0.05         |     2000     | 70.30%    |\n",
            "|        0.05         |     2500     | 69.97%    |\n",
            "|        0.05         |     3000     | 70.63%    |\n",
            "|        0.05         |     3500     | 69.97%    |\n",
            "|        0.1         |     500     | 68.98%    |\n",
            "|        0.1         |     1000     | 70.30%    |\n",
            "|        0.1         |     1500     | 70.96%    |\n",
            "|        0.1         |     2000     | 71.62%    |\n",
            "|        0.1         |     2500     | 70.96%    |\n",
            "|        0.1         |     3000     | 70.30%    |\n",
            "|        0.1         |     3500     | 71.29%    |\n",
            "|        0.2         |     500     | 70.63%    |\n",
            "|        0.2         |     1000     | 70.96%    |\n",
            "|        0.2         |     1500     | 71.29%    |\n",
            "|        0.2         |     2000     | 70.63%    |\n",
            "|        0.2         |     2500     | 70.96%    |\n",
            "|        0.2         |     3000     | 70.63%    |\n",
            "|        0.2         |     3500     | 70.96%    |\n",
            "|        0.3         |     500     | 70.63%    |\n",
            "|        0.3         |     1000     | 70.96%    |\n",
            "|        0.3         |     1500     | 70.30%    |\n",
            "|        0.3         |     2000     | 70.96%    |\n",
            "|        0.3         |     2500     | 70.96%    |\n",
            "|        0.3         |     3000     | 71.29%    |\n",
            "|        0.3         |     3500     | 71.29%    |\n",
            "|        0.4         |     500     | 70.96%    |\n",
            "|        0.4         |     1000     | 70.96%    |\n",
            "|        0.4         |     1500     | 71.29%    |\n",
            "|        0.4         |     2000     | 71.29%    |\n",
            "|        0.4         |     2500     | 70.96%    |\n",
            "|        0.4         |     3000     | 70.96%    |\n",
            "|        0.4         |     3500     | 71.62%    |\n",
            " --------------------------------------------------\n"
          ],
          "name": "stdout"
        }
      ]
    },
    {
      "cell_type": "code",
      "metadata": {
        "id": "y5fUjUBr8NGg",
        "colab_type": "code",
        "colab": {
          "base_uri": "https://localhost:8080/",
          "height": 295
        },
        "outputId": "5f7b7c6c-384f-4e53-bb32-d39eb883cc5f"
      },
      "source": [
        "# Plot EC cost history\n",
        "ec_model = LogisticRegression(0.4, 3500)\n",
        "ec_model.fit(ec_X, ec_y)\n",
        "ec_model.plot_history()"
      ],
      "execution_count": 24,
      "outputs": [
        {
          "output_type": "display_data",
          "data": {
            "image/png": "[encoded data removed]",
            "text/plain": [
              "<Figure size 432x288 with 1 Axes>"
            ]
          },
          "metadata": {
            "tags": [],
            "needs_background": "light"
          }
        }
      ]
    },
    {
      "cell_type": "code",
      "metadata": {
        "id": "j01RuwWJ8Vg7",
        "colab_type": "code",
        "colab": {
          "base_uri": "https://localhost:8080/",
          "height": 295
        },
        "outputId": "1101f266-30b5-4cf9-a97c-c9946f19ec15"
      },
      "source": [
        "# Plot diabetes cost history\n",
        "diabetes_model = LogisticRegression(0.4, 3500)\n",
        "diabetes_model.fit(diabetes_X, diabetes_y)\n",
        "diabetes_model.plot_history()"
      ],
      "execution_count": 25,
      "outputs": [
        {
          "output_type": "display_data",
          "data": {
            "image/png": "[encoded data removed]",
            "text/plain": [
              "<Figure size 432x288 with 1 Axes>"
            ]
          },
          "metadata": {
            "tags": [],
            "needs_background": "light"
          }
        }
      ]
    }
  ]
}